{
 "cells": [
  {
   "cell_type": "markdown",
   "metadata": {},
   "source": [
    "# Code to check the quality of each image.  In the process of taking some the photos, some of the photos came out blurry and were unusable.  This code displayed each image and allowed a person to determine if it was usable or not.  The result was a data frame with every image path and a field that determines if it is usable."
   ]
  },
  {
   "cell_type": "code",
   "execution_count": 1,
   "metadata": {},
   "outputs": [],
   "source": [
    "import matplotlib.pyplot as plt\n",
    "from PIL import Image\n",
    "import numpy as np\n",
    "import cv2\n",
    "import pandas as pd\n",
    "import pickle"
   ]
  },
  {
   "cell_type": "code",
   "execution_count": 2,
   "metadata": {},
   "outputs": [
    {
     "data": {
      "application/javascript": [
       "IPython.OutputArea.auto_scroll_threshold = 9999;"
      ],
      "text/plain": [
       "<IPython.core.display.Javascript object>"
      ]
     },
     "metadata": {},
     "output_type": "display_data"
    }
   ],
   "source": [
    "%%javascript\n",
    "IPython.OutputArea.auto_scroll_threshold = 9999;"
   ]
  },
  {
   "cell_type": "markdown",
   "metadata": {},
   "source": [
    "# list_save.pkl is a pickle file that contains the list of all images by full path."
   ]
  },
  {
   "cell_type": "code",
   "execution_count": 4,
   "metadata": {},
   "outputs": [],
   "source": [
    "all_list = pickle.load( open( \"list_save.pkl\", \"rb\" ) )\n",
    "for image_num in range(len(all_list)):\n",
    "    #load the image\n",
    "    df = pickle.load( open( \"df_save.pkl\", \"rb\" ) )\n",
    "    #check if the image has already been procesed\n",
    "    if not image_num in df.indexx:\n",
    "        #display the image\n",
    "        pil_im = cv2.imread(all_list[image_num]) #Take jpg + png\n",
    "        plt.figure(figsize=(20,10))\n",
    "        plt.imshow(pil_im)\n",
    "        plt.show()\n",
    "        #ask the user to press enter if the image is good or \"l\", if it is not good.\n",
    "        print('image# - ' + str(image_num) + ' - press <enter> if good, enter \"l\" if bad')\n",
    "        a = input()\n",
    "        if not a:\n",
    "            df = df.append({'fileName': all_list[image_num], 'indexx': int(image_num), 'good': 1}, ignore_index=True)\n",
    "        elif a == 'l':\n",
    "            df = df.append({'fileName': all_list[image_num], 'indexx': int(image_num), 'good': 0}, ignore_index=True)\n",
    "        #save results in a pickle file called df_save.pkl\n",
    "        pickle.dump( df, open( \"df_save.pkl\", \"wb\" ) )"
   ]
  }
 ],
 "metadata": {
  "kernelspec": {
   "display_name": "Environment (conda_tensorflow_p36)",
   "language": "python",
   "name": "conda_tensorflow_p36"
  },
  "language_info": {
   "codemirror_mode": {
    "name": "ipython",
    "version": 3
   },
   "file_extension": ".py",
   "mimetype": "text/x-python",
   "name": "python",
   "nbconvert_exporter": "python",
   "pygments_lexer": "ipython3",
   "version": "3.6.5"
  }
 },
 "nbformat": 4,
 "nbformat_minor": 2
}
