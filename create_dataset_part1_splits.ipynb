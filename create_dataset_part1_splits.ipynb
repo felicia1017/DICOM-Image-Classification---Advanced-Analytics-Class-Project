{
 "cells": [
  {
   "cell_type": "markdown",
   "metadata": {},
   "source": [
    "# Code to randomly split all usable images into test train and validate datasets"
   ]
  },
  {
   "cell_type": "code",
   "execution_count": 1,
   "metadata": {},
   "outputs": [],
   "source": [
    "import matplotlib.pyplot as plt\n",
    "from PIL import Image\n",
    "import numpy as np\n",
    "import cv2\n",
    "import pandas as pd\n",
    "import pickle\n",
    "import random"
   ]
  },
  {
   "cell_type": "code",
   "execution_count": 2,
   "metadata": {},
   "outputs": [
    {
     "data": {
      "application/javascript": [
       "IPython.OutputArea.auto_scroll_threshold = 9999;"
      ],
      "text/plain": [
       "<IPython.core.display.Javascript object>"
      ]
     },
     "metadata": {},
     "output_type": "display_data"
    }
   ],
   "source": [
    "%%javascript\n",
    "IPython.OutputArea.auto_scroll_threshold = 9999;"
   ]
  },
  {
   "cell_type": "code",
   "execution_count": 3,
   "metadata": {},
   "outputs": [],
   "source": [
    "#load list of all images\n",
    "all_list = pickle.load( open( \"/home/ubuntu/efs/acrin_by_machine/machine_photos/list_save.pkl\", \"rb\" ) )\n",
    "#load the dataframe that determines if each photo is usable\n",
    "df = pickle.load( open( \"/home/ubuntu/efs/acrin_by_machine/machine_photos/df_save_new.pkl\", \"rb\" ) )\n"
   ]
  },
  {
   "cell_type": "code",
   "execution_count": 5,
   "metadata": {},
   "outputs": [],
   "source": [
    "#add a colummn to the dataframe that identifies the machine type of the photo\n",
    "for index,row in df.iterrows():\n",
    "    df.loc[index,'machine'] = row.fileName.split('/')[-2][-1]"
   ]
  },
  {
   "cell_type": "code",
   "execution_count": 10,
   "metadata": {},
   "outputs": [],
   "source": [
    "pickle.dump( df, open( \"/home/ubuntu/efs/acrin_by_machine/machine_photos/machine_df_full.pkl\", \"wb\" ) )"
   ]
  },
  {
   "cell_type": "code",
   "execution_count": 11,
   "metadata": {},
   "outputs": [],
   "source": [
    "#split all usable photos into train/validate/test and store each into a seperate directory\n",
    "import shutil\n",
    "import os\n",
    "n_train = 0.8\n",
    "n_valid = 0.1\n",
    "n_test = 0.1\n",
    "machine_list = list(set(df.machine))\n",
    "for mach in machine_list:\n",
    "    this_list = list(df[(df.machine==mach) & (df.good==1)].fileName)\n",
    "    random.shuffle(this_list)\n",
    "    directory = 'machine_'+mach\n",
    "    num_train = int(len(this_list)*n_train)\n",
    "    num_valid = int(len(this_list)*n_valid)\n",
    "    num_test = int(len(this_list)*n_test)\n",
    "    if not os.path.exists('/home/ubuntu/Part1/train/'+directory):\n",
    "        os.makedirs('/home/ubuntu/Part1/train/'+directory)\n",
    "    if not os.path.exists('/home/ubuntu/Part1/valid/'+directory):\n",
    "        os.makedirs('/home/ubuntu/Part1/valid/'+directory)\n",
    "    if not os.path.exists('/home/ubuntu/Part1/test/'+directory):\n",
    "        os.makedirs('/home/ubuntu/Part1/test/'+directory)\n",
    "\n",
    "\n",
    "    for i in range(0,num_train,1):\n",
    "        shutil.copy(this_list[i], '/home/ubuntu/Part1/train/'+directory)\n",
    "    for i in range(num_train,num_valid+num_train,1):\n",
    "        shutil.copy(this_list[i], '/home/ubuntu/Part1/valid/'+directory)\n",
    "    for i in range(num_train+num_valid,len(this_list),1):\n",
    "        shutil.copy(this_list[i], '/home/ubuntu/Part1/test/'+directory)"
   ]
  },
  {
   "cell_type": "code",
   "execution_count": null,
   "metadata": {},
   "outputs": [],
   "source": []
  }
 ],
 "metadata": {
  "kernelspec": {
   "display_name": "Environment (conda_tensorflow_p36)",
   "language": "python",
   "name": "conda_tensorflow_p36"
  },
  "language_info": {
   "codemirror_mode": {
    "name": "ipython",
    "version": 3
   },
   "file_extension": ".py",
   "mimetype": "text/x-python",
   "name": "python",
   "nbconvert_exporter": "python",
   "pygments_lexer": "ipython3",
   "version": "3.6.5"
  }
 },
 "nbformat": 4,
 "nbformat_minor": 2
}
